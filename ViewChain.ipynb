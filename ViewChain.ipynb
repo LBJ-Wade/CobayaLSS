{
 "cells": [
  {
   "cell_type": "code",
   "execution_count": null,
   "metadata": {},
   "outputs": [],
   "source": [
    "import numpy as np\n",
    "import matplotlib.pyplot as plt\n",
    "%matplotlib inline"
   ]
  },
  {
   "cell_type": "code",
   "execution_count": null,
   "metadata": {},
   "outputs": [],
   "source": [
    "from cobaya.yaml          import yaml_load_file\n",
    "from cobaya.samplers.mcmc import plot_progress\n",
    "#\n",
    "from getdist.mcsamples    import MCSamplesFromCobaya\n",
    "from getdist.mcsamples    import loadMCSamples\n",
    "import getdist.plots      as     gdplt\n",
    "#\n",
    "import os"
   ]
  },
  {
   "cell_type": "code",
   "execution_count": null,
   "metadata": {},
   "outputs": [],
   "source": [
    "info = yaml_load_file(\"boss_s01_z061_sig8_xi.yaml\")\n",
    "print(info['params'].keys())\n",
    "print(info['output'])"
   ]
  },
  {
   "cell_type": "code",
   "execution_count": null,
   "metadata": {},
   "outputs": [],
   "source": [
    "plot_progress(info['output'])"
   ]
  },
  {
   "cell_type": "code",
   "execution_count": null,
   "metadata": {},
   "outputs": [],
   "source": [
    "samples = loadMCSamples(os.path.abspath(info[\"output\"]),\\\n",
    "                        settings={'ignore_rows':0.3})\n",
    "# Analyze and plot\n",
    "mean  = samples.getMeans()\n",
    "print(\"Mean:\")\n",
    "print(mean)\n",
    "#\n",
    "gdplot = gdplt.get_subplot_plotter()\n",
    "gdplot.triangle_plot(samples,\\\n",
    "                     [\"sig8\",\"b1\",\"b2\",\"bs\",\"alpha0\",\"alpha2\"],\\\n",
    "                     filled=True,\\\n",
    "                     title_limit=1,contour_lws=2)"
   ]
  },
  {
   "cell_type": "code",
   "execution_count": null,
   "metadata": {},
   "outputs": [],
   "source": [
    "chains = []\n",
    "for yaml in [\\\n",
    "            \"boss_s01_z038_sig8_xi.yaml\",\\\n",
    "            \"boss_s01_z061_sig8_xi.yaml\",\\\n",
    "            ]:\n",
    "    info= yaml_load_file(yaml)\n",
    "    cc  = loadMCSamples(os.path.abspath(info[\"output\"]),\\\n",
    "                        settings={'ignore_rows':0.3})\n",
    "    #p   = cc.getParams()\n",
    "    #cc.addDerived(p.sigma8*(p.Omega_m/0.3)**0.5,name='S8',label='S_8')\n",
    "    chains.append(cc)\n",
    "#\n",
    "for cc in chains:\n",
    "    for k in [\"sig8\",\"b1\",\"b2\",\"bs\",\"alpha0\",\"alpha2\"]:\n",
    "        print( cc.getInlineLatex(k) )\n",
    "    print(\"#\")"
   ]
  },
  {
   "cell_type": "code",
   "execution_count": null,
   "metadata": {},
   "outputs": [],
   "source": [
    "g = gdplt.get_subplot_plotter()\n",
    "g.triangle_plot(chains,\\\n",
    "                [\"sig8\",\"b1\",\"b2\",\"bs\",\"alpha0\",\"alpha2\"],\\\n",
    "                colors=['C0','C1'],\\\n",
    "                line_args=[\\\n",
    "                           {'ls':'-', 'color':'C0'},\\\n",
    "                           {'ls':'-', 'color':'C1'},\\\n",
    "                          ],\\\n",
    "                legend_labels=[r'$z=0.38$',r'$z=0.61$'],\\\n",
    "                filled=True,alphas=[0.5,0.5])\n",
    "#g.export('compare_corner_plot.pdf')"
   ]
  },
  {
   "cell_type": "code",
   "execution_count": null,
   "metadata": {},
   "outputs": [],
   "source": [
    "g = gdplt.get_single_plotter(width_inch=8)\n",
    "g.plots_1d(chains, ['sig8','b1'], nx=2, normalized=True,\\\n",
    "           colors=['C0','C1'],\\\n",
    "           legend_labels=[r'$z=0.38$',r'$z=0.61$'],legend_ncol=2,\\\n",
    "           constrained_layout=True,xlims=[ [0.65,0.9],[0.5,1.9] ]);\n",
    "g.subplots[0,0].axvline(0.83,color='grey',ls='--')\n",
    "#g.export(\"compare_1d_posterior.pdf\")"
   ]
  }
 ],
 "metadata": {
  "kernelspec": {
   "display_name": "Cobaya-env",
   "language": "python",
   "name": "cobaya"
  },
  "language_info": {
   "codemirror_mode": {
    "name": "ipython",
    "version": 3
   },
   "file_extension": ".py",
   "mimetype": "text/x-python",
   "name": "python",
   "nbconvert_exporter": "python",
   "pygments_lexer": "ipython3",
   "version": "3.8.5"
  }
 },
 "nbformat": 4,
 "nbformat_minor": 4
}
