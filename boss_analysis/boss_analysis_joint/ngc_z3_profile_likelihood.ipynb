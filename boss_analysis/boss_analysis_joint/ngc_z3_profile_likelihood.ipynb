{
 "cells": [
  {
   "cell_type": "code",
   "execution_count": 2,
   "id": "0b504a20-63f9-4093-b132-6bbd2fcda794",
   "metadata": {},
   "outputs": [],
   "source": [
    "import numpy as np\n",
    "from matplotlib import pyplot as plt"
   ]
  },
  {
   "cell_type": "code",
   "execution_count": null,
   "id": "dddc3594-6665-4bef-99d7-20a51367c943",
   "metadata": {},
   "outputs": [],
   "source": []
  },
  {
   "cell_type": "code",
   "execution_count": 3,
   "id": "49dc650f-7d4f-4197-a0cd-156c2983df0f",
   "metadata": {},
   "outputs": [],
   "source": [
    "import sys\n",
    "sys.path.append('/global/u1/s/sfschen/Python/velocileptors/')\n",
    "\n",
    "from velocileptors.LPT.lpt_rsd_fftw import LPT_RSD\n",
    "from classy import Class"
   ]
  },
  {
   "cell_type": "code",
   "execution_count": null,
   "id": "ab362adc-a80e-48f6-adcd-82e2d83186d6",
   "metadata": {},
   "outputs": [],
   "source": []
  },
  {
   "cell_type": "code",
   "execution_count": null,
   "id": "eadddb36-ed9f-479d-8e0c-c6fc4960b15b",
   "metadata": {},
   "outputs": [],
   "source": []
  },
  {
   "cell_type": "code",
   "execution_count": null,
   "id": "7d9874c6-2586-4db3-92bf-139b3e321cbe",
   "metadata": {},
   "outputs": [],
   "source": []
  },
  {
   "cell_type": "code",
   "execution_count": 4,
   "id": "6de722ac-74e9-4911-8380-f233db802e9d",
   "metadata": {},
   "outputs": [],
   "source": [
    "z = 0.61\n",
    "omega_b = 0.02242\n",
    "omega_c = 0.11933\n",
    "lnAs =  3.047\n",
    "h = 0.6766\n",
    "ns = 0.9665\n",
    "\n",
    "nnu = 1\n",
    "nur = 2.033\n",
    "mnu = 0.06037735849\n",
    "\n",
    "fac = 1.0\n",
    "\n",
    "pkparams = {\n",
    "    'output': 'mPk',\n",
    "    'P_k_max_h/Mpc': 20.,\n",
    "    'z_pk': '0.0,10',\n",
    "    'A_s': fac * np.exp(lnAs)*1e-10,\n",
    "    'n_s': ns,\n",
    "    'h': h,\n",
    "    'N_ur': nur,\n",
    "    'N_ncdm': nnu,\n",
    "    'm_ncdm': mnu,\n",
    "    'tau_reio': 0.0568,\n",
    "    'omega_b': omega_b,\n",
    "    'omega_cdm': omega_c}\n",
    "\n",
    "import time\n",
    "t1 = time.time()\n",
    "pkclass = Class()\n",
    "pkclass.set(pkparams)\n",
    "pkclass.compute()\n",
    "\n",
    "speed_of_light = 2.99792458e5\n",
    "Hz = pkclass.Hubble(z) * speed_of_light / h # this H(z) in units km/s/(Mpc/h) = 100 * E(z)\n",
    "chiz = pkclass.angular_distance(z) * (1.+z) * h # this is the comoving radius in units of Mpc/h \n",
    "\n",
    "fnu = pkclass.Omega_nu/pkclass.Omega_m()\n",
    "f = pkclass.scale_independent_growth_factor_f(z) * (1 - 0.6*fnu)\n",
    "\n",
    "ki = np.logspace(-3.0,1.0,200)\n",
    "pi = np.array( [pkclass.pk_cb(k*h, z ) * h**3 for k in ki] )"
   ]
  },
  {
   "cell_type": "code",
   "execution_count": 5,
   "id": "808f95ca-ec97-4012-8f33-7c153cc13d25",
   "metadata": {},
   "outputs": [],
   "source": [
    "sigma8 = pkclass.sigma8()"
   ]
  },
  {
   "cell_type": "code",
   "execution_count": 6,
   "id": "f4826805-cc56-47ef-b02e-7dcd5bcfff61",
   "metadata": {},
   "outputs": [
    {
     "data": {
      "text/plain": [
       "0.8099301616589367"
      ]
     },
     "execution_count": 6,
     "metadata": {},
     "output_type": "execute_result"
    }
   ],
   "source": [
    "sigma8"
   ]
  },
  {
   "cell_type": "code",
   "execution_count": 7,
   "id": "aac96927-df12-4e80-a387-205ec2379836",
   "metadata": {},
   "outputs": [],
   "source": [
    "# Reference Cosmology:\n",
    "Omega_M = 0.31\n",
    "fb = 0.1571\n",
    "\n",
    "\n",
    "pkparams = {\n",
    "    'output': 'mPk',\n",
    "    'P_k_max_h/Mpc': 20.,\n",
    "    'z_pk': '0.0,10',\n",
    "    'A_s': np.exp(3.040)*1e-10,\n",
    "    'n_s': ns,\n",
    "    'h': h,\n",
    "    'N_ur': 3.046,\n",
    "    'N_ncdm': 0,#1,\n",
    "    #'m_ncdm': 0,\n",
    "    'tau_reio': 0.0568,\n",
    "    'omega_b': h**2 * fb * Omega_M,\n",
    "    'omega_cdm': h**2 * (1-fb) * Omega_M}\n",
    "\n",
    "import time\n",
    "t1 = time.time()\n",
    "pkclass = Class()\n",
    "pkclass.set(pkparams)\n",
    "pkclass.compute()\n",
    "\n",
    "Hz_fid = pkclass.Hubble(z) * speed_of_light / h # this H(z) in units km/s/(Mpc/h) = 100 * E(z)\n",
    "chiz_fid = pkclass.angular_distance(z) * (1.+z) * h # this is the comoving radius in units of Mpc/h "
   ]
  },
  {
   "cell_type": "code",
   "execution_count": 8,
   "id": "1aaeb1cf-a3ce-4b64-aaaf-d246b7475d1b",
   "metadata": {},
   "outputs": [],
   "source": [
    "apar, aperp = Hz_fid / Hz, chiz / chiz_fid"
   ]
  },
  {
   "cell_type": "code",
   "execution_count": null,
   "id": "90afbe7d-2f6f-4b4a-b1a9-000c559e97f8",
   "metadata": {},
   "outputs": [],
   "source": []
  },
  {
   "cell_type": "code",
   "execution_count": 9,
   "id": "1dfd0386-ca1f-4aec-8592-e96713d01ce8",
   "metadata": {},
   "outputs": [
    {
     "data": {
      "text/plain": [
       "0"
      ]
     },
     "execution_count": 9,
     "metadata": {},
     "output_type": "execute_result"
    }
   ],
   "source": [
    "# Now make the PT object:\n",
    "modPT = LPT_RSD(ki, pi, kIR=0.2,\\\n",
    "                cutoff=10, extrap_min = -4, extrap_max = 3, N = 2000, threads=1, jn=5)\n",
    "modPT.make_pltable(f, kmin=1e-3, kmax=0.5, nk = 200, apar=apar, aperp=aperp, ngauss=4)"
   ]
  },
  {
   "cell_type": "code",
   "execution_count": null,
   "id": "778b2c5c-b50c-474c-a985-52bccb9deb24",
   "metadata": {},
   "outputs": [],
   "source": []
  },
  {
   "cell_type": "code",
   "execution_count": 10,
   "id": "42a8826a-58d3-4f44-95ac-2d909362350f",
   "metadata": {},
   "outputs": [],
   "source": [
    "# Now set up the power spectrum model\n",
    "from scipy.interpolate import InterpolatedUnivariateSpline as Spline\n",
    "\n",
    "kth = np.arange(0, 0.4, 0.001)\n",
    "kth_c = kth + 0.001/2\n",
    "\n",
    "kobs = np.arange(0,0.4,0.01)\n",
    "kobs_c = kobs + 0.01/2\n",
    "\n",
    "def pkell(pars):\n",
    "    \n",
    "    b1, b2, bs, alpha0, alpha2, sn2 = pars\n",
    "    b3 = 0\n",
    "    sn0 = 0\n",
    "    alpha4 = 0\n",
    "    sn4 = 0\n",
    "    \n",
    "    bvec = [b1,b2,bs,b3,alpha0,alpha2,alpha4,0,1e3*sn0,1e3*sn2,1e3*sn4]\n",
    "        \n",
    "    kv, p0, p2, p4 = modPT.combine_bias_terms_pkell(bvec)\n",
    "    \n",
    "    p0th, p2th, p4th = Spline(kv,p0,ext=3)(kth_c), Spline(kv,p2,ext=3)(kth_c), Spline(kv,p4,ext=3)(kth_c)\n",
    "    \n",
    "    return p0th, p2th, p4th"
   ]
  },
  {
   "cell_type": "code",
   "execution_count": null,
   "id": "dad163c9-8391-4ade-af22-0c863bb906c0",
   "metadata": {},
   "outputs": [],
   "source": []
  },
  {
   "cell_type": "code",
   "execution_count": 11,
   "id": "1ff2da23-dabf-420b-8633-275f5180b4eb",
   "metadata": {},
   "outputs": [],
   "source": [
    "# Load matrices and such things:\n",
    "from pktools import*\n",
    "\n",
    "filename = '../boss_data_renorm/pk/ps1D_BOSS_DR12_NGC_z3_COMPnbar_TSC_700_700_700_400_renorm.dat'\n",
    "dats = read_power(filename)"
   ]
  },
  {
   "cell_type": "code",
   "execution_count": null,
   "id": "5e56c976-13d2-428e-9406-f52211cd2e29",
   "metadata": {},
   "outputs": [],
   "source": []
  },
  {
   "cell_type": "code",
   "execution_count": 12,
   "id": "74bc2feb-76de-4984-a186-8cacf7fdce80",
   "metadata": {},
   "outputs": [
    {
     "data": {
      "text/plain": [
       "masked_array(data=[0.0, 0.0, 0.0, 0.0, 0.0, 0.0, 0.0, 0.0, 0.0, 0.0, 0.0,\n",
       "                   0.0, 0.0, 0.0, 0.0, 0.0, 0.0, 0.0, 0.0, 0.0, 0.0, 0.0,\n",
       "                   0.0, 0.0, 0.0, 0.0, 0.0, 0.0, 0.0, 0.0, 0.0, 0.0, 0.0,\n",
       "                   0.0, 0.0, 0.0, 0.0, 0.0, 0.0, 0.0],\n",
       "             mask=[False, False, False, False, False, False, False, False,\n",
       "                   False, False, False, False, False, False, False, False,\n",
       "                   False, False, False, False, False, False, False, False,\n",
       "                   False, False, False, False, False, False, False, False,\n",
       "                   False, False, False, False, False, False, False, False],\n",
       "       fill_value=1e+20)"
      ]
     },
     "execution_count": 12,
     "metadata": {},
     "output_type": "execute_result"
    }
   ],
   "source": [
    "dats['sig0']"
   ]
  },
  {
   "cell_type": "code",
   "execution_count": 13,
   "id": "085dc04a-7188-4381-8ddd-c1873250cfc1",
   "metadata": {},
   "outputs": [
    {
     "data": {
      "text/plain": [
       "(0.0, 0.2)"
      ]
     },
     "execution_count": 13,
     "metadata": {},
     "output_type": "execute_result"
    },
    {
     "data": {
      "image/png": "[encoded data removed]",
      "text/plain": [
       "<Figure size 720x360 with 1 Axes>"
      ]
     },
     "metadata": {
      "needs_background": "light"
     },
     "output_type": "display_data"
    }
   ],
   "source": [
    "plt.figure(figsize=(10,5))\n",
    "\n",
    "kdat = dats['k_center']\n",
    "p0dat = dats['pk0']\n",
    "err0 = dats['sig0']\n",
    "\n",
    "p2dat = dats['pk2']\n",
    "err2 = dats['sig2']\n",
    "\n",
    "plt.errorbar(kdat, kdat * p0dat, yerr=kdat * err0, fmt='o')\n",
    "plt.errorbar(kdat, kdat * p2dat, yerr=kdat * err2, fmt='o')\n",
    "\n",
    "plt.xlim(0,0.2)"
   ]
  },
  {
   "cell_type": "code",
   "execution_count": 14,
   "id": "12a0f68d-e450-4566-b8b0-dab778933654",
   "metadata": {},
   "outputs": [],
   "source": [
    "M = np.loadtxt('../boss_data_renorm/matrices/M_BOSS_DR12_NGC_z3_V6C_1_1_1_1_1_1200_2000.matrix.gz')\n",
    "W = np.loadtxt('../boss_data_renorm/matrices/W_BOSS_DR12_NGC_z3_V6C_1_1_1_1_1_10_200_2000_averaged_v1.matrix.gz')"
   ]
  },
  {
   "cell_type": "code",
   "execution_count": null,
   "id": "998885b4-9dd5-4076-ab01-3ab72ba1f04b",
   "metadata": {},
   "outputs": [],
   "source": []
  },
  {
   "cell_type": "code",
   "execution_count": 15,
   "id": "01fd9f6d-ba6d-470a-b10c-c904dd51efaf",
   "metadata": {},
   "outputs": [],
   "source": [
    "# Now define function with the whole thing:\n",
    "def pkobs(bvec):\n",
    "    \n",
    "    p0th, p2th, p4th = pkell(bvec)\n",
    "    pk_model_vector = np.concatenate((p0th,p2th,p4th))\n",
    "    \n",
    "    # wide angle\n",
    "    expanded_model = np.matmul(M, pk_model_vector )\n",
    "    # Convolve with window (true) −> (conv) see eq. 2.18\n",
    "    convolved_model = np.matmul(W, expanded_model )\n",
    "    \n",
    "    return convolved_model"
   ]
  },
  {
   "cell_type": "code",
   "execution_count": null,
   "id": "bee94013-39ca-4014-ab31-5f265f1d8449",
   "metadata": {},
   "outputs": [],
   "source": []
  },
  {
   "cell_type": "code",
   "execution_count": 16,
   "id": "2ea98e16-5a46-4755-b84c-f0f6f2d95f29",
   "metadata": {},
   "outputs": [
    {
     "data": {
      "text/plain": [
       "[<matplotlib.lines.Line2D at 0x2aaad4ab2cd0>]"
      ]
     },
     "execution_count": 16,
     "metadata": {},
     "output_type": "execute_result"
    },
    {
     "data": {
      "image/png": "[encoded data removed]",
      "text/plain": [
       "<Figure size 432x288 with 1 Axes>"
      ]
     },
     "metadata": {
      "needs_background": "light"
     },
     "output_type": "display_data"
    }
   ],
   "source": [
    "# Trial run:\n",
    "thy = pkobs([1,0,0,0,0,0])\n",
    "p0thy = thy[:40]\n",
    "p2thy = thy[80:120]\n",
    "\n",
    "plt.plot(kobs, kobs * p0thy)\n",
    "plt.plot(kobs, kobs * p2thy)"
   ]
  },
  {
   "cell_type": "code",
   "execution_count": null,
   "id": "c54c298f-0754-40f7-82ef-bb84a8cbf6ab",
   "metadata": {},
   "outputs": [],
   "source": []
  },
  {
   "cell_type": "code",
   "execution_count": 17,
   "id": "f04c26a6-a0e6-41e6-9d41-49a36de1ccad",
   "metadata": {},
   "outputs": [],
   "source": [
    "# Now set up the covariance\n",
    "cov = np.loadtxt('../boss_data_renorm/covariances/C_2048_BOSS_DR12_NGC_z3_V6C_1_1_1_1_1_10_200_200_prerecon.matrix.gz')"
   ]
  },
  {
   "cell_type": "code",
   "execution_count": 18,
   "id": "38f9ec2c-245b-47a0-b52a-0c3b38617e9b",
   "metadata": {},
   "outputs": [],
   "source": [
    "err0 = np.diag(cov)[:40]**0.5\n",
    "err2 = np.diag(cov)[80:120]**0.5"
   ]
  },
  {
   "cell_type": "code",
   "execution_count": 19,
   "id": "92a838be-c421-4562-92a2-9ef0f33557d9",
   "metadata": {},
   "outputs": [],
   "source": [
    "# Set the fit ranges\n",
    "kbins, pkvec = dict_to_vec(dats)\n",
    "\n",
    "krange = (kobs_c > 0.02) * (kobs_c < 0.2)\n",
    "\n",
    "kexcl  = kobs_c < 0\n",
    "fit_range = np.concatenate( (krange, kexcl, krange, kexcl, kexcl))\n",
    "\n",
    "fit_data = pkvec[fit_range]\n",
    "\n",
    "Cinv = np.linalg.inv( cov[np.ix_(fit_range, fit_range)] )"
   ]
  },
  {
   "cell_type": "code",
   "execution_count": 20,
   "id": "7c0b996e-057e-4ea5-9c7a-50dd8ebf176a",
   "metadata": {},
   "outputs": [
    {
     "name": "stderr",
     "output_type": "stream",
     "text": [
      "<ipython-input-20-a987f73eb166>:1: RuntimeWarning: invalid value encountered in log\n",
      "  plt.imshow( np.log(np.linalg.inv(Cinv)) )\n"
     ]
    },
    {
     "data": {
      "text/plain": [
       "<matplotlib.image.AxesImage at 0x2aaad5451910>"
      ]
     },
     "execution_count": 20,
     "metadata": {},
     "output_type": "execute_result"
    },
    {
     "data": {
      "image/png": "[encoded data removed]",
      "text/plain": [
       "<Figure size 432x288 with 1 Axes>"
      ]
     },
     "metadata": {
      "needs_background": "light"
     },
     "output_type": "display_data"
    }
   ],
   "source": [
    "plt.imshow( np.log(np.linalg.inv(Cinv)) )"
   ]
  },
  {
   "cell_type": "code",
   "execution_count": null,
   "id": "a1281ee0-7d0c-4f08-bb4d-9cb23ca0d84a",
   "metadata": {},
   "outputs": [],
   "source": []
  },
  {
   "cell_type": "code",
   "execution_count": null,
   "id": "231d4930-1abf-4328-ab87-9b99c1c08356",
   "metadata": {},
   "outputs": [],
   "source": []
  },
  {
   "cell_type": "code",
   "execution_count": null,
   "id": "a948d229-aa1b-4f65-a830-2f130d424306",
   "metadata": {},
   "outputs": [],
   "source": []
  },
  {
   "cell_type": "code",
   "execution_count": 21,
   "id": "4205db29-aed4-4f64-8848-4449a7efcf95",
   "metadata": {},
   "outputs": [],
   "source": [
    "def chi2(bvec):\n",
    "    \n",
    "    thy = pkobs(bvec)[fit_range]\n",
    "    diff = thy - fit_data\n",
    "    \n",
    "    return np.dot(diff ,np.dot(Cinv ,diff ))"
   ]
  },
  {
   "cell_type": "code",
   "execution_count": 22,
   "id": "629197b5-c4d4-496c-abdb-ac98f362a332",
   "metadata": {},
   "outputs": [],
   "source": [
    "def diff_pk(bvec):\n",
    "    \n",
    "    thy = pkobs(bvec)[fit_range]\n",
    "    diff = thy - fit_data\n",
    "    \n",
    "    return diff"
   ]
  },
  {
   "cell_type": "code",
   "execution_count": 32,
   "id": "924f42de-5f8a-4cb3-86c0-566a7ecbfe9b",
   "metadata": {},
   "outputs": [
    {
     "data": {
      "text/plain": [
       "array([12341.41369438,  5889.40859483,  3208.97020704,  1853.17814569,\n",
       "        1228.88802488,   857.24189181,   642.03214301,   491.62210508,\n",
       "         392.46845147,   303.96810548,   247.41295646,   213.16298551,\n",
       "         180.15314499,   157.48859573,   137.99516154,   119.80167777,\n",
       "         109.61815509,    99.54732827,    89.88883785,    82.06057772,\n",
       "          78.00484784,    69.16164694,    63.97549603,    59.94471175,\n",
       "          56.04553939,    52.43130684,    49.71388211,    45.81913088,\n",
       "          43.5405108 ,    41.36035358,    39.18250846,    37.4682843 ,\n",
       "          35.71146449,    36.17899932,    33.81756492,    32.4130445 ,\n",
       "          31.43270269,    29.64473883,    27.71151728,    27.43502584])"
      ]
     },
     "execution_count": 32,
     "metadata": {},
     "output_type": "execute_result"
    }
   ],
   "source": [
    "err0"
   ]
  },
  {
   "cell_type": "code",
   "execution_count": 31,
   "id": "646971c3-947f-4802-876c-e052a309da53",
   "metadata": {},
   "outputs": [
    {
     "data": {
      "text/plain": [
       "(0.0, 0.2)"
      ]
     },
     "execution_count": 31,
     "metadata": {},
     "output_type": "execute_result"
    },
    {
     "data": {
      "image/png": "[encoded data removed]",
      "text/plain": [
       "<Figure size 432x288 with 1 Axes>"
      ]
     },
     "metadata": {
      "needs_background": "light"
     },
     "output_type": "display_data"
    }
   ],
   "source": [
    "plt.plot(kobs_c, err0/p0dat, c='C0')\n",
    "plt.plot(kobs_c, -err0/p0dat, c='C0')\n",
    "plt.plot(kobs_c, err2/p2dat, c='C1')\n",
    "plt.plot(kobs_c, -err2/p2dat, c='C1')\n",
    "\n",
    "plt.ylim(-0.1,0.1)\n",
    "plt.xlim(0,0.2)"
   ]
  },
  {
   "cell_type": "code",
   "execution_count": 29,
   "id": "542bb1fb-f42e-41aa-987e-9bc800f4f5ff",
   "metadata": {},
   "outputs": [
    {
     "data": {
      "text/plain": [
       "(200.0, 400.0)"
      ]
     },
     "execution_count": 29,
     "metadata": {},
     "output_type": "execute_result"
    },
    {
     "data": {
      "image/png": "[encoded data removed]",
      "text/plain": [
       "<Figure size 432x288 with 1 Axes>"
      ]
     },
     "metadata": {
      "needs_background": "light"
     },
     "output_type": "display_data"
    }
   ],
   "source": [
    "plt.errorbar(kobs_c, kobs_c * p2dat, yerr= kobs_c * err2, fmt='o', c='C1')\n",
    "plt.xlim(0,0.2)\n",
    "plt.ylim(200,400)"
   ]
  },
  {
   "cell_type": "code",
   "execution_count": null,
   "id": "ceff671a-c309-42b2-94e9-a693fcbf8077",
   "metadata": {},
   "outputs": [],
   "source": []
  },
  {
   "cell_type": "code",
   "execution_count": 36,
   "id": "eed7ab70-ab6d-44b0-92e5-1bbb5a3ba0ef",
   "metadata": {},
   "outputs": [],
   "source": [
    "# optimize\n",
    "from scipy.optimize import minimize\n",
    "\n",
    "res = minimize(chi2, [1,0,0,0,0,0] )"
   ]
  },
  {
   "cell_type": "code",
   "execution_count": 37,
   "id": "bcaf8f6e-6848-4585-a256-203794958313",
   "metadata": {},
   "outputs": [
    {
     "data": {
      "text/plain": [
       "(-100.0, 2200.0)"
      ]
     },
     "execution_count": 37,
     "metadata": {},
     "output_type": "execute_result"
    },
    {
     "data": {
      "image/png": "[encoded data removed]",
      "text/plain": [
       "<Figure size 720x360 with 1 Axes>"
      ]
     },
     "metadata": {
      "needs_background": "light"
     },
     "output_type": "display_data"
    }
   ],
   "source": [
    "plt.figure(figsize=(10,5))\n",
    "thy = pkobs(res.x)\n",
    "\n",
    "p0thy = thy[0:40]\n",
    "p2thy = thy[80:120]\n",
    "\n",
    "plt.plot(kobs_c, kobs_c * p0thy)\n",
    "plt.plot(kobs_c, kobs_c * p2thy)\n",
    "\n",
    "plt.errorbar(kobs_c, kobs_c * p0dat, yerr=kobs_c * err0, fmt='o', c='C0')\n",
    "plt.errorbar(kobs_c, kobs_c * p2dat, yerr= kobs_c * err2, fmt='o', c='C1')\n",
    "\n",
    "plt.text(0.18, 1750, 'NGC z3')\n",
    "plt.text(0.18, 1600, r'$\\sigma_8 = $ %.2f' %(sigma8))\n",
    "plt.text(0.18, 1450, r'$\\chi^2 = $ %.1f' %(res.fun))\n",
    "\n",
    "plt.xlabel('k [h/Mpc]')\n",
    "plt.ylabel(r'$k P_\\ell$ [(Mpc/h)$^2$]')\n",
    "\n",
    "plt.xlim(0,0.2)\n",
    "plt.ylim(-100,2200)"
   ]
  },
  {
   "cell_type": "code",
   "execution_count": 38,
   "id": "acf2ae4f-1810-444e-bc45-438ec00a6d16",
   "metadata": {},
   "outputs": [
    {
     "data": {
      "text/plain": [
       "(-200.0, 200.0)"
      ]
     },
     "execution_count": 38,
     "metadata": {},
     "output_type": "execute_result"
    },
    {
     "data": {
      "image/png": "[encoded data removed]",
      "text/plain": [
       "<Figure size 720x360 with 1 Axes>"
      ]
     },
     "metadata": {
      "needs_background": "light"
     },
     "output_type": "display_data"
    }
   ],
   "source": [
    "plt.figure(figsize=(10,5))\n",
    "thy = pkobs(res.x)\n",
    "\n",
    "p0thy = thy[0:40]\n",
    "p2thy = thy[80:120]\n",
    "\n",
    "#plt.plot(kobs_c, kobs_c * p0thy)\n",
    "#plt.plot(kobs_c, kobs_c * p2thy)\n",
    "\n",
    "plt.errorbar(kobs_c, kobs_c * (p0dat - p0thy), yerr=kobs_c * err0, fmt='o', c='C0')\n",
    "plt.errorbar(kobs_c, kobs_c * (p2dat - p2thy), yerr= kobs_c * err2, fmt='o', c='C1')\n",
    "\n",
    "#plt.text(0.18, 1750, 'NGC z3')\n",
    "#plt.text(0.18, 1600, r'$\\sigma_8 = $ %.2f' %(sigma8))\n",
    "#plt.text(0.18, 1450, r'$\\chi^2 = $ %.1f' %(res.fun))\n",
    "\n",
    "plt.xlabel('k [h/Mpc]')\n",
    "plt.ylabel(r'$ \\Delta k P_\\ell$ [(Mpc/h)$^2$]')\n",
    "\n",
    "plt.xlim(0,0.2)\n",
    "plt.ylim(-200,200)"
   ]
  },
  {
   "cell_type": "code",
   "execution_count": null,
   "id": "7610ca1b-a2f8-4062-b26a-64d270004408",
   "metadata": {},
   "outputs": [],
   "source": []
  },
  {
   "cell_type": "code",
   "execution_count": 39,
   "id": "456ca8b8-f99a-4c9d-b03f-0dc9408cd1ca",
   "metadata": {},
   "outputs": [
    {
     "name": "stdout",
     "output_type": "stream",
     "text": [
      "0.6\n",
      "[  1.70504014  -3.91965668   1.23120219  22.61564747   6.98448465\n",
      " -27.29099065]\n",
      "0.8\n",
      "[ 1.28727185 -3.32143156  0.54694377  9.56876991  5.51309532 -2.1955784 ]\n",
      "1.0\n",
      "[ 0.99580521 -2.77410029  0.08297331  2.27619229  7.5189624  18.43770158]\n",
      "1.2\n",
      "[ 0.7763532  -2.33349559 -0.23486886 -2.40248123 11.91156105 34.99751377]\n"
     ]
    }
   ],
   "source": [
    "# Look at a bunch of values of sigma8:\n",
    "facs = [0.6, 0.8, 1.0, 1.2]\n",
    "#facs = np.arange(0.6, 1.2, 0.025)\n",
    "    \n",
    "chi2s = []\n",
    "p0ths = []\n",
    "p2ths = []\n",
    "\n",
    "for fac in facs:\n",
    "    \n",
    "    print(fac)\n",
    "    kvec = np.concatenate( ([0.0005,], np.logspace(np.log10(0.0015),np.log10(0.025),10, endpoint=True), np.arange(0.03,0.51,0.01)) )\n",
    "\n",
    "    \n",
    "    modPT = LPT_RSD(ki, fac * pi, kIR=0.2,\\\n",
    "                cutoff=10, extrap_min = -4, extrap_max = 3, N = 2000, threads=1, jn=5)\n",
    "    #modPT.make_pltable(f, kmin=1e-3, kmax=0.5, nk = 200, apar=apar, aperp=aperp, ngauss=4)\n",
    "    modPT.make_pltable(f, kv=kvec, apar=apar, aperp=aperp, ngauss=4)\n",
    "    \n",
    "    res = minimize(chi2, [1,0,0,0,0,0], options={'gtol': 1e-08,} )\n",
    "    print(res.x)\n",
    "    \n",
    "    thy = pkobs(res.x)\n",
    "    p0ths += [thy[0:40], ]\n",
    "    p2ths += [thy[80:120], ]\n",
    "    chi2s += [res.fun]\n",
    "    "
   ]
  },
  {
   "cell_type": "code",
   "execution_count": null,
   "id": "ecd22d64-288c-448c-b0bc-8d24649493bc",
   "metadata": {},
   "outputs": [],
   "source": []
  },
  {
   "cell_type": "code",
   "execution_count": 40,
   "id": "a9b582ba-a7df-4733-a7e4-0fa74aa2dae3",
   "metadata": {},
   "outputs": [
    {
     "name": "stdout",
     "output_type": "stream",
     "text": [
      "0.8099301616589367\n",
      "0.8099301616589367\n",
      "0.8099301616589367\n",
      "0.8099301616589367\n"
     ]
    },
    {
     "data": {
      "text/plain": [
       "(-100.0, 2000.0)"
      ]
     },
     "execution_count": 40,
     "metadata": {},
     "output_type": "execute_result"
    },
    {
     "data": {
      "image/png": "[encoded data removed]",
      "text/plain": [
       "<Figure size 720x360 with 1 Axes>"
      ]
     },
     "metadata": {
      "needs_background": "light"
     },
     "output_type": "display_data"
    }
   ],
   "source": [
    "plt.figure(figsize=(10,5))\n",
    "thy = pkobs(res.x)\n",
    "\n",
    "p0thy = thy[0:40]\n",
    "p2thy = thy[80:120]\n",
    "\n",
    "for ii, fac in enumerate(facs):\n",
    "    print(sigma8)\n",
    "    plt.plot(kobs_c, kobs_c * p0ths[ii], 'C'+str(ii), label=r'$\\sigma_8,\\, \\chi^2 = $%.2f, %.1f' %(sigma8*np.sqrt(fac),chi2s[ii]))\n",
    "    plt.plot(kobs_c, kobs_c * p2ths[ii], 'C'+str(ii))\n",
    "\n",
    "plt.errorbar(kobs_c, kobs_c * p0dat, yerr=kobs_c * err0, fmt='o', c='k')\n",
    "plt.errorbar(kobs_c, kobs_c * p2dat, yerr= kobs_c * err2, fmt='o', c='k')\n",
    "\n",
    "#plt.text(0.18, 1750, 'NGC z3')\n",
    "#plt.text(0.18, 1600, r'$\\sigma_8 = $ %.2f' %(sigma8))\n",
    "#plt.text(0.18, 1450, r'$\\chi^2 = $ %.1f' %(res.fun))\n",
    "\n",
    "plt.xlabel('k [h/Mpc]')\n",
    "plt.ylabel(r'$k P_\\ell$ [(Mpc/h)$^2$]')\n",
    "plt.legend(ncol=2)\n",
    "\n",
    "plt.xlim(0,0.2)\n",
    "plt.ylim(-100,2000)"
   ]
  },
  {
   "cell_type": "code",
   "execution_count": 41,
   "id": "4f46c857-dfaa-47ca-92c0-26d0e781b5c3",
   "metadata": {},
   "outputs": [
    {
     "data": {
      "text/plain": [
       "(-20.0, 20.0)"
      ]
     },
     "execution_count": 41,
     "metadata": {},
     "output_type": "execute_result"
    },
    {
     "data": {
      "image/png": "[encoded data removed]",
      "text/plain": [
       "<Figure size 720x360 with 1 Axes>"
      ]
     },
     "metadata": {
      "needs_background": "light"
     },
     "output_type": "display_data"
    }
   ],
   "source": [
    "plt.figure(figsize=(10,5))\n",
    "thy = pkobs(res.x)\n",
    "\n",
    "p0thy = thy[0:40]\n",
    "p2thy = thy[80:120]\n",
    "\n",
    "for ii, fac in enumerate(facs):\n",
    "    #plt.plot(kobs_c, kobs_c * p0ths[ii], 'C'+str(ii), label=r'$\\sigma_8,\\, \\chi^2 = $%.2f, %.1f' %(sigma8*np.sqrt(fac),chi2s[ii]))\n",
    "    #plt.plot(kobs_c, kobs_c * p2ths[ii], 'C'+str(ii))\n",
    "\n",
    "    plt.errorbar(kobs_c, kobs_c**2 * (p0dat - p0ths[ii]), yerr=kobs_c**2 * err0, fmt='o', c='C'+str(ii), label=r'$\\sigma_8,\\, \\chi^2 = $%.2f, %.1f' %(sigma8*np.sqrt(fac),chi2s[ii]))\n",
    "    plt.errorbar(kobs_c, kobs_c**2 * (p2dat - p2ths[ii]), yerr= kobs_c**2 * err2, fmt='^', c='C'+str(ii))\n",
    "\n",
    "#plt.text(0.18, 1750, 'NGC z3')\n",
    "#plt.text(0.18, 1600, r'$\\sigma_8 = $ %.2f' %(sigma8))\n",
    "#plt.text(0.18, 1450, r'$\\chi^2 = $ %.1f' %(res.fun))\n",
    "\n",
    "plt.xlabel('k [h/Mpc]')\n",
    "plt.ylabel(r'$k^2 \\Delta P_\\ell$ [(Mpc/h)$^2$]')\n",
    "plt.legend(loc='lower left', ncol=2)\n",
    "\n",
    "plt.xlim(0,0.2)\n",
    "plt.ylim(-20,20)"
   ]
  },
  {
   "cell_type": "code",
   "execution_count": 76,
   "id": "b551a2cc-7575-4a98-869d-636a8e8185af",
   "metadata": {},
   "outputs": [],
   "source": [
    "SMALL_SIZE = 8\n",
    "MEDIUM_SIZE = 10\n",
    "BIGGER_SIZE = 10\n",
    "\n",
    "plt.rc('font', size=MEDIUM_SIZE)          # controls default text sizes\n",
    "plt.rc('axes', titlesize=BIGGER_SIZE)     # fontsize of the axes title\n",
    "plt.rc('axes', labelsize=BIGGER_SIZE)    # fontsize of the x and y labels\n",
    "plt.rc('xtick', labelsize=BIGGER_SIZE)    # fontsize of the tick labels\n",
    "plt.rc('ytick', labelsize=BIGGER_SIZE)    # fontsize of the tick labels\n",
    "plt.rc('legend', fontsize=SMALL_SIZE)    # legend fontsize\n",
    "plt.rc('figure', titlesize=BIGGER_SIZE)  # fontsize of the figure title"
   ]
  },
  {
   "cell_type": "code",
   "execution_count": 77,
   "id": "6250f6d0-efa0-4696-b18a-a86fdb81a9eb",
   "metadata": {},
   "outputs": [
    {
     "name": "stdout",
     "output_type": "stream",
     "text": [
      "0.8099301616589367\n",
      "0.8099301616589367\n",
      "0.8099301616589367\n",
      "0.8099301616589367\n"
     ]
    },
    {
     "data": {
      "image/png": "[encoded data removed]",
      "text/plain": [
       "<Figure size 576x432 with 2 Axes>"
      ]
     },
     "metadata": {
      "needs_background": "light"
     },
     "output_type": "display_data"
    }
   ],
   "source": [
    "# Joint Plot\n",
    "\n",
    "fig = plt.figure(figsize=(8,6))\n",
    "\n",
    "plt.subplot(2,1,1)\n",
    "\n",
    "for ii, fac in enumerate(facs):\n",
    "    print(sigma8)\n",
    "    plt.plot(kobs_c, kobs_c * p0ths[ii], 'C'+str(ii), )\n",
    "    plt.plot(kobs_c, kobs_c * p2ths[ii], 'C'+str(ii))\n",
    "\n",
    "plt.errorbar(kobs_c, kobs_c * p0dat, yerr=kobs_c * err0, fmt='o', c='k', label=r'$\\ell = 0$')\n",
    "plt.errorbar(kobs_c, kobs_c * p2dat, yerr= kobs_c * err2, fmt='^', c='k', label=r'$\\ell = 2$')\n",
    "\n",
    "#plt.text(0.18, 1750, 'NGC z3')\n",
    "#plt.text(0.18, 1600, r'$\\sigma_8 = $ %.2f' %(sigma8))\n",
    "#plt.text(0.18, 1450, r'$\\chi^2 = $ %.1f' %(res.fun))\n",
    "\n",
    "#plt.xlabel('k [h/Mpc]')\n",
    "plt.ylabel(r'$k P_\\ell$ [(Mpc/h)$^2$]')\n",
    "plt.legend(loc='upper right',ncol=3)\n",
    "\n",
    "plt.xlim(0,0.2)\n",
    "plt.ylim(-100,2200)\n",
    "plt.text(0.0915, 100, 'NGCz3')\n",
    "plt.xticks([])\n",
    "\n",
    "plt.subplot(2,1,2)\n",
    "\n",
    "for ii, fac in enumerate(facs):\n",
    "    #plt.plot(kobs_c, kobs_c * p0ths[ii], 'C'+str(ii), label=r'$\\sigma_8,\\, \\chi^2 = $%.2f, %.1f' %(sigma8*np.sqrt(fac),chi2s[ii]))\n",
    "    #plt.plot(kobs_c, kobs_c * p2ths[ii], 'C'+str(ii))\n",
    "\n",
    "    plt.errorbar(kobs_c, kobs_c**2 * (p0dat - p0ths[ii]), yerr=kobs_c**2 * err0, fmt='o', c='C'+str(ii))\n",
    "    plt.errorbar(kobs_c, kobs_c**2 * (p2dat - p2ths[ii]), yerr= kobs_c**2 * err2, fmt='^', c='C'+str(ii))\n",
    "    plt.plot(-1000,1000, 'C'+str(ii), label=r'$\\sigma_8,\\, \\chi^2 = $%.2f, %.1f' %(sigma8*np.sqrt(fac),chi2s[ii]))\n",
    "    \n",
    "#plt.text(0.18, 1750, 'NGC z3')\n",
    "#plt.text(0.18, 1600, r'$\\sigma_8 = $ %.2f' %(sigma8))\n",
    "#plt.text(0.18, 1450, r'$\\chi^2 = $ %.1f' %(res.fun))\n",
    "\n",
    "plt.plot([0,1],[0,0],'k--')\n",
    "\n",
    "plt.xlabel('k [h/Mpc]')\n",
    "plt.ylabel(r'$k^2 \\Delta P_\\ell$ [(Mpc/h)$^2$]')\n",
    "#plt.legend(loc='lower left', ncol=2)\n",
    "plt.legend(loc='lower center', ncol=2)\n",
    "\n",
    "plt.xlim(0,0.2)\n",
    "plt.ylim(-22,22)\n",
    "plt.tight_layout()\n",
    "\n",
    "plt.savefig('Figures/sigma8_scan_planck_lcdm_ngc_z3.pdf')"
   ]
  },
  {
   "cell_type": "code",
   "execution_count": 69,
   "id": "ce1ae8e5-757b-4abf-be8d-f2d0d90336c6",
   "metadata": {},
   "outputs": [
    {
     "ename": "AttributeError",
     "evalue": "'Figure' object has no attribute 'fontsize'",
     "output_type": "error",
     "traceback": [
      "\u001b[0;31m---------------------------------------------------------------------------\u001b[0m",
      "\u001b[0;31mAttributeError\u001b[0m                            Traceback (most recent call last)",
      "\u001b[0;32m<ipython-input-69-287979400f83>\u001b[0m in \u001b[0;36m<module>\u001b[0;34m\u001b[0m\n\u001b[0;32m----> 1\u001b[0;31m \u001b[0mfig\u001b[0m\u001b[0;34m.\u001b[0m\u001b[0mfontsize\u001b[0m\u001b[0;34m\u001b[0m\u001b[0;34m\u001b[0m\u001b[0m\n\u001b[0m",
      "\u001b[0;31mAttributeError\u001b[0m: 'Figure' object has no attribute 'fontsize'"
     ]
    }
   ],
   "source": []
  },
  {
   "cell_type": "code",
   "execution_count": null,
   "id": "162a49b6-02f6-4d13-b619-a263a985a943",
   "metadata": {},
   "outputs": [],
   "source": [
    "plt.plot(facs**0.5 * sigma8, chi2s, 'o-')"
   ]
  },
  {
   "cell_type": "code",
   "execution_count": null,
   "id": "34f15658-55a7-48ad-a78f-0e971082c3ad",
   "metadata": {},
   "outputs": [],
   "source": [
    "chi2(res.x)"
   ]
  },
  {
   "cell_type": "code",
   "execution_count": null,
   "id": "1db6a3a6-2ca7-457b-aa80-41d329951906",
   "metadata": {},
   "outputs": [],
   "source": [
    "chi2(res.x)"
   ]
  },
  {
   "cell_type": "code",
   "execution_count": null,
   "id": "0e299756-d064-4cd5-969b-9dfa8c02bbf8",
   "metadata": {},
   "outputs": [],
   "source": [
    "a, b, c = pkell(res.x)"
   ]
  },
  {
   "cell_type": "code",
   "execution_count": null,
   "id": "10b3ab7e-6cf2-455f-a1d1-dfb3d70a4464",
   "metadata": {},
   "outputs": [],
   "source": [
    "d, e, g = pkell(res.x)"
   ]
  },
  {
   "cell_type": "code",
   "execution_count": null,
   "id": "bcbe1f8c-d5c9-44ec-8909-8ef4ebc6c3cd",
   "metadata": {},
   "outputs": [],
   "source": [
    "plt.semilogx(kth_c, b/e-1, '.')\n",
    "plt.ylim(-0.01,0.01)"
   ]
  },
  {
   "cell_type": "code",
   "execution_count": null,
   "id": "4985b23c-85d5-405e-913e-e2cfd7169049",
   "metadata": {},
   "outputs": [],
   "source": [
    "t2-t1"
   ]
  },
  {
   "cell_type": "code",
   "execution_count": null,
   "id": "93c81b06-e6ff-47f0-9da3-2e28639d1463",
   "metadata": {},
   "outputs": [],
   "source": [
    "# Testing for number of k bins in modPT\n",
    "# Now make th\n",
    "#make PT object:\n",
    "import time\n",
    "t1 = time.time()\n",
    "modPT = LPT_RSD(ki, pi, kIR=0.2,\\\n",
    "                cutoff=10, extrap_min = -4, extrap_max = 3, N = 2000, threads=1, jn=5)\n",
    "modPT.make_pltable(f, kmin=1e-3, kmax=0.5, nk = 200, apar=apar, aperp=aperp, ngauss=4)\n",
    "#modPT.make_pltable(f, kv=kth_c, apar=apar, aperp=aperp, ngauss=4)\n",
    "t2 = time.time()\n",
    "print(t2-t1)"
   ]
  },
  {
   "cell_type": "code",
   "execution_count": null,
   "id": "c4d6587a-2e17-4d5c-a379-f0519ebd4843",
   "metadata": {},
   "outputs": [],
   "source": [
    "#  Leaner\n",
    "#kvec = np.concatenate( (np.logspace(-3,np.log10(0.025),10, endpoint=True), np.arange(0.03,0.45,0.01)) )\n",
    "t1 = time.time()\n",
    "modPT = LPT_RSD(ki, pi, kIR=0.2,\\\n",
    "                cutoff=10, extrap_min = -4, extrap_max = 3, N = 2000, threads=1, jn=5)\n",
    "modPT.make_pltable(f, kv=kvec, apar=apar, aperp=aperp, ngauss=4)\n",
    "t2 =time.time()\n",
    "print(t2-t1)"
   ]
  },
  {
   "cell_type": "code",
   "execution_count": null,
   "id": "0349f988-a0e3-499f-aac5-2ff75d13936b",
   "metadata": {},
   "outputs": [],
   "source": [
    "kvec.shape"
   ]
  },
  {
   "cell_type": "code",
   "execution_count": null,
   "id": "8712ef0a-e833-46ad-b2b1-856c4aa44c5f",
   "metadata": {},
   "outputs": [],
   "source": [
    "def pkell(pars,PT):\n",
    "    \n",
    "    b1, b2, bs, alpha0, alpha2, sn2 = pars\n",
    "    b3 = 0\n",
    "    sn0 = 0\n",
    "    alpha4 = 0\n",
    "    sn4 = 0\n",
    "    \n",
    "    bvec = [b1,b2,bs,b3,alpha0,alpha2,alpha4,0,1e3*sn0,1e3*sn2,1e3*sn4]\n",
    "        \n",
    "    kv, p0, p2, p4 = PT.combine_bias_terms_pkell(bvec)\n",
    "    \n",
    "    p0th, p2th, p4th = Spline(kv,p0,ext=3)(kth_c), Spline(kv,p2,ext=3)(kth_c), Spline(kv,p4,ext=3)(kth_c)\n",
    "    \n",
    "    return p0th, p2th, p4th"
   ]
  },
  {
   "cell_type": "code",
   "execution_count": null,
   "id": "6c41dd85-2627-4bd9-b241-0cf081c1a470",
   "metadata": {},
   "outputs": [],
   "source": [
    "p0fid, p2fid, p4fid = pkell(res.x, modPT)\n",
    "p01, p21, p41 = pkell(res.x, modPT1)"
   ]
  },
  {
   "cell_type": "code",
   "execution_count": null,
   "id": "658e9b30-9078-4751-bb6e-39103133f90f",
   "metadata": {},
   "outputs": [],
   "source": [
    "plt.plot(kth_c, p2fid/p21-1)\n",
    "\n",
    "plt.ylim(-0.01,0.01)"
   ]
  },
  {
   "cell_type": "code",
   "execution_count": null,
   "id": "0daf9e60-c965-49e8-8d11-0cfafc7d1fe3",
   "metadata": {},
   "outputs": [],
   "source": [
    "#kv = np.logspace(-3,np.log10(0.5),50)\n",
    "kvec = np.concatenate( ([0.0005,], np.logspace(np.log10(0.0015),np.log10(0.025),10, endpoint=True), np.arange(0.03,0.51,0.01)) )\n",
    "plt.plot(kvec, kvec * np.interp(kvec, ki,pi), '.')"
   ]
  },
  {
   "cell_type": "code",
   "execution_count": null,
   "id": "0b6ab22c-0231-4aae-b3fd-2c0c3a13259c",
   "metadata": {},
   "outputs": [],
   "source": [
    "np.arange(0.06,0.5,0.01).shape\n"
   ]
  },
  {
   "cell_type": "code",
   "execution_count": null,
   "id": "354ccf4f-9d55-48bd-8a87-a2fb1af86f41",
   "metadata": {},
   "outputs": [],
   "source": [
    "kvec.shape"
   ]
  },
  {
   "cell_type": "code",
   "execution_count": null,
   "id": "6542c586-c403-4696-93b3-4f18067256ca",
   "metadata": {},
   "outputs": [],
   "source": []
  },
  {
   "cell_type": "code",
   "execution_count": null,
   "id": "104f2fde-f451-42ca-bc44-d6729c46bbea",
   "metadata": {},
   "outputs": [],
   "source": []
  },
  {
   "cell_type": "code",
   "execution_count": null,
   "id": "4140e80d-13a7-4544-af8d-bf397bd8cb61",
   "metadata": {},
   "outputs": [],
   "source": []
  },
  {
   "cell_type": "code",
   "execution_count": null,
   "id": "19fad01a-1dda-4770-a583-a95360be423f",
   "metadata": {},
   "outputs": [],
   "source": []
  }
 ],
 "metadata": {
  "kernelspec": {
   "display_name": "nersc_env",
   "language": "python",
   "name": "nersc_env"
  },
  "language_info": {
   "codemirror_mode": {
    "name": "ipython",
    "version": 3
   },
   "file_extension": ".py",
   "mimetype": "text/x-python",
   "name": "python",
   "nbconvert_exporter": "python",
   "pygments_lexer": "ipython3",
   "version": "3.8.8"
  }
 },
 "nbformat": 4,
 "nbformat_minor": 5
}
