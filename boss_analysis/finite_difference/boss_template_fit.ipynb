{
 "cells": [
  {
   "cell_type": "code",
   "execution_count": 1,
   "id": "0a38345d-5d22-4e1b-af90-381a18d992e1",
   "metadata": {},
   "outputs": [],
   "source": [
    "import numpy as np\n",
    "from matplotlib import pyplot as plt\n",
    "import sys"
   ]
  },
  {
   "cell_type": "code",
   "execution_count": null,
   "id": "54753cf2-fbfc-4dba-b7e8-bb4ab46e786c",
   "metadata": {},
   "outputs": [],
   "source": []
  },
  {
   "cell_type": "code",
   "execution_count": 2,
   "id": "bd80ae3f-68fc-49db-9c02-d887d8fe64c8",
   "metadata": {},
   "outputs": [],
   "source": [
    "sys.path.append('')"
   ]
  },
  {
   "cell_type": "code",
   "execution_count": null,
   "id": "0a04d7a6-ff56-4bb1-8f22-76c22f753ece",
   "metadata": {},
   "outputs": [],
   "source": []
  },
  {
   "cell_type": "code",
   "execution_count": 3,
   "id": "34832911-9f96-4fe2-a93a-fc3f13e0a771",
   "metadata": {},
   "outputs": [],
   "source": [
    "from classy import Class\n",
    "from linear_theory import f_of_a\n",
    "#from velocileptors.LPT.lpt_rsd_fftw import LPT_RSD"
   ]
  },
  {
   "cell_type": "code",
   "execution_count": null,
   "id": "09b0fcc3-1ed0-49b0-8296-369633300735",
   "metadata": {},
   "outputs": [],
   "source": []
  },
  {
   "cell_type": "code",
   "execution_count": 5,
   "id": "d453274e-157a-42bf-93e7-5f33e29400d4",
   "metadata": {},
   "outputs": [],
   "source": [
    "OmegaM, h, sigma8 = 0.31, 0.676, 0.8\n",
    "\n",
    "omega_b = 0.022\n",
    "\n",
    "lnAs =  3.047\n",
    "ns = 0.96\n",
    "\n",
    "nnu = 1\n",
    "nur = 2.033\n",
    "mnu = 0.06\n",
    "omega_nu = 0.0106 * mnu\n",
    "        \n",
    "omega_c = (OmegaM - omega_b/h**2 - omega_nu/h**2) * h**2\n",
    "\n",
    "pkparams = {\n",
    "        'output': 'mPk',\n",
    "        'P_k_max_h/Mpc': 20.,\n",
    "        'z_pk': '0.0,10',\n",
    "        'A_s': np.exp(lnAs)*1e-10,\n",
    "        'n_s': ns,\n",
    "        'h': h,\n",
    "        'N_ur': nur,\n",
    "        'N_ncdm': nnu,\n",
    "        'm_ncdm': mnu,\n",
    "        'tau_reio': 0.0568,\n",
    "        'omega_b': omega_b,\n",
    "        'omega_cdm': omega_c}\n",
    "\n",
    "pkclass = Class()\n",
    "pkclass.set(pkparams)\n",
    "pkclass.compute()"
   ]
  },
  {
   "cell_type": "code",
   "execution_count": null,
   "id": "ca9a1caf-16d1-4c94-a770-3b2fbbbff743",
   "metadata": {},
   "outputs": [],
   "source": []
  },
  {
   "cell_type": "code",
   "execution_count": 10,
   "id": "815f711b-36ec-4403-b69b-fc0dc88eec4d",
   "metadata": {},
   "outputs": [],
   "source": [
    "# Calculate and renormalize power spectrum\n",
    "ki = np.logspace(-3.0,1.0,200)\n",
    "pi = np.array( [pkclass.pk_lin(k*h, 0 ) * h**3 for k in ki] )\n",
    "pi = (sigma8/pkclass.sigma8())**2 * pi"
   ]
  },
  {
   "cell_type": "code",
   "execution_count": 11,
   "id": "4c08e0c1-ab5a-461a-bf0a-cb2e084b3013",
   "metadata": {},
   "outputs": [
    {
     "data": {
      "text/plain": [
       "[<matplotlib.lines.Line2D at 0x2aaad8ca3790>]"
      ]
     },
     "execution_count": 11,
     "metadata": {},
     "output_type": "execute_result"
    },
    {
     "data": {
      "image/png": "[encoded data removed]",
      "text/plain": [
       "<Figure size 432x288 with 1 Axes>"
      ]
     },
     "metadata": {
      "needs_background": "light"
     },
     "output_type": "display_data"
    }
   ],
   "source": [
    "plt.loglog(ki, pi)"
   ]
  },
  {
   "cell_type": "code",
   "execution_count": 12,
   "id": "a672093f-73cf-4058-86d3-4be6d11c7591",
   "metadata": {},
   "outputs": [],
   "source": [
    "np.savetxt('boss_template_pk.txt', np.array([ki,pi]).T)"
   ]
  },
  {
   "cell_type": "code",
   "execution_count": 13,
   "id": "2103c809-da93-4732-bd58-13a57b8844b4",
   "metadata": {},
   "outputs": [
    {
     "data": {
      "text/plain": [
       "0.8127905447189346"
      ]
     },
     "execution_count": 13,
     "metadata": {},
     "output_type": "execute_result"
    }
   ],
   "source": [
    "pkclass.sigma8_cb()"
   ]
  },
  {
   "cell_type": "code",
   "execution_count": 14,
   "id": "5e891142-6029-4303-bfa7-644ebfadea36",
   "metadata": {},
   "outputs": [
    {
     "data": {
      "text/plain": [
       "1.0043292285262921"
      ]
     },
     "execution_count": 14,
     "metadata": {},
     "output_type": "execute_result"
    }
   ],
   "source": [
    "pkclass.sigma8_cb()/pkclass.sigma8()"
   ]
  },
  {
   "cell_type": "code",
   "execution_count": null,
   "id": "b0bd2208-c310-4477-9731-4046e504c30c",
   "metadata": {},
   "outputs": [],
   "source": []
  }
 ],
 "metadata": {
  "kernelspec": {
   "display_name": "nersc_env",
   "language": "python",
   "name": "nersc_env"
  },
  "language_info": {
   "codemirror_mode": {
    "name": "ipython",
    "version": 3
   },
   "file_extension": ".py",
   "mimetype": "text/x-python",
   "name": "python",
   "nbconvert_exporter": "python",
   "pygments_lexer": "ipython3",
   "version": "3.8.8"
  }
 },
 "nbformat": 4,
 "nbformat_minor": 5
}
