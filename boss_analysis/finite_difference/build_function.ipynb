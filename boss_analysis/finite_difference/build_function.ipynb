{
 "cells": [
  {
   "cell_type": "code",
   "execution_count": 1,
   "id": "ace57676-33a0-4b71-8698-1480085373e9",
   "metadata": {},
   "outputs": [],
   "source": [
    "# Here we want to set up the full set of tasks that we will want to perform\n",
    "import numpy as np\n",
    "\n",
    "from matplotlib import pyplot as plt\n",
    "\n",
    "from findiff import FinDiff"
   ]
  },
  {
   "cell_type": "code",
   "execution_count": null,
   "id": "50fb5507-1482-4139-b196-cbee49126e20",
   "metadata": {},
   "outputs": [],
   "source": []
  },
  {
   "cell_type": "code",
   "execution_count": 2,
   "id": "fe933745-9b59-4ec1-9187-89969ed435d9",
   "metadata": {},
   "outputs": [],
   "source": [
    "# Set up the parameter space\n",
    "order = 3\n",
    "\n",
    "Nparams = 3 # number of parameters\n",
    "x0s = [1,2,3] # the center and grid spacing\n",
    "dxs = [0.01, 0.05, 0.01]\n",
    "\n",
    "output_shape = (2,) # this is the shape of the output e.g. for pkells (nells, nks)"
   ]
  },
  {
   "cell_type": "code",
   "execution_count": null,
   "id": "dd2da7af-764b-4123-aea6-40378f887703",
   "metadata": {},
   "outputs": [],
   "source": []
  },
  {
   "cell_type": "code",
   "execution_count": 3,
   "id": "d310dd01-2611-4589-8c55-e29865653484",
   "metadata": {},
   "outputs": [],
   "source": [
    "# Now we want to set up the actual grid itself\n",
    "template = np.arange(-order,order+1,1)\n",
    "Npoints = 2*order + 1\n",
    "grid_axes = [ dx*template + x0 for x0, dx in zip(x0s,dxs)]"
   ]
  },
  {
   "cell_type": "code",
   "execution_count": 4,
   "id": "b73834ee-a960-4540-bae2-a834cca6c43c",
   "metadata": {},
   "outputs": [],
   "source": [
    "Inds   = np.meshgrid( * (np.arange(Npoints),)*Nparams, indexing='ij')\n",
    "Inds = [ind.flatten() for ind in Inds]\n",
    "center_ii = (order,)*Nparams\n",
    "Coords = np.meshgrid( *grid_axes, indexing='ij')"
   ]
  },
  {
   "cell_type": "code",
   "execution_count": null,
   "id": "97cb76a5-3d7a-4392-8600-1b350a30f312",
   "metadata": {},
   "outputs": [],
   "source": []
  },
  {
   "cell_type": "code",
   "execution_count": 5,
   "id": "9411c113-1c0a-4b30-87bb-1980b822d496",
   "metadata": {},
   "outputs": [],
   "source": [
    "# Define the function we want to emulate.... just a trial one for now\n",
    "def F(pars):\n",
    "    \n",
    "    x, y, z = pars\n",
    "    \n",
    "    F1 = 1 + (x-1) + (y-2)**2 + 2*(z-3)**3\n",
    "    F2 = (y-2)*(z-3)\n",
    "    \n",
    "    return [F1,F2]"
   ]
  },
  {
   "cell_type": "code",
   "execution_count": 6,
   "id": "214579c9-a8d9-4a5b-a086-e6abdb98f2f7",
   "metadata": {},
   "outputs": [],
   "source": [
    "Fs = np.zeros( (Npoints,)*Nparams + output_shape )\n",
    "for nn, iis in enumerate(zip(*Inds)):\n",
    "    coord = [Coords[i][iis] for i in range(Nparams)]\n",
    "    Fs[iis] = F(coord)"
   ]
  },
  {
   "cell_type": "code",
   "execution_count": 7,
   "id": "44d9b440-e653-4928-89d0-356f840aecb0",
   "metadata": {},
   "outputs": [
    {
     "data": {
      "text/plain": [
       "0.0"
      ]
     },
     "execution_count": 7,
     "metadata": {},
     "output_type": "execute_result"
    }
   ],
   "source": [
    "# Check if we did this right:\n",
    "f1 = 1 + (Coords[0]-1) + (Coords[1]-2)**2 + 2*(Coords[2]-3)**3\n",
    "np.max(np.abs(Fs[:,:,:,0] - f1))"
   ]
  },
  {
   "cell_type": "code",
   "execution_count": 8,
   "id": "d36270a4-b6ec-4bf7-9595-29080f0d5eec",
   "metadata": {},
   "outputs": [
    {
     "data": {
      "text/plain": [
       "(2,)"
      ]
     },
     "execution_count": 8,
     "metadata": {},
     "output_type": "execute_result"
    }
   ],
   "source": [
    "Fs.shape[len(dxs):]"
   ]
  },
  {
   "cell_type": "code",
   "execution_count": 9,
   "id": "fba5cd89-3aab-475a-91a4-e3d2c2a6222e",
   "metadata": {},
   "outputs": [],
   "source": [
    "# Now define the derivatives\n",
    "derivs = []\n",
    "\n",
    "for oo in range(order+1):\n",
    "    if oo == 0:\n",
    "        derivs += [Fs[center_ii]]\n",
    "    else:\n",
    "        dnFs = np.zeros( (Nparams,)*oo + output_shape)\n",
    "        \n",
    "        # Want to get a list of all the possible d/dx_i dx_j dx_k ...\n",
    "        param_inds = np.meshgrid( * (np.arange(Nparams),)*oo, indexing='ij')\n",
    "        PInds = [ind.flatten() for ind in param_inds] \n",
    "        \n",
    "        for iis in zip(*PInds):\n",
    "            # build a string of (xk, dxk, 1) for taking the d/dxk derivative in sequence\n",
    "            deriv_tuple = []\n",
    "            for ii in iis:\n",
    "                deriv_tuple += [(ii, dxs[ii],1),]\n",
    "            \n",
    "            dndx = FinDiff(*deriv_tuple)\n",
    "            \n",
    "            dnFs[iis] += dndx(Fs)[center_ii]\n",
    "        \n",
    "        derivs += [dnFs]"
   ]
  },
  {
   "cell_type": "code",
   "execution_count": null,
   "id": "241f66ab-fa0d-4c68-a262-257d30a4ee56",
   "metadata": {},
   "outputs": [],
   "source": []
  },
  {
   "cell_type": "code",
   "execution_count": 10,
   "id": "7f726c9b-d7b7-487a-a4ec-f2764803de5f",
   "metadata": {},
   "outputs": [],
   "source": [
    "# Test our function\n",
    "from taylor_approximation import compute_derivatives\n",
    "\n",
    "test = compute_derivatives(Fs, dxs, center_ii, order)"
   ]
  },
  {
   "cell_type": "code",
   "execution_count": null,
   "id": "37c6b77d-f562-453b-b663-b05f5117d6f5",
   "metadata": {},
   "outputs": [],
   "source": []
  },
  {
   "cell_type": "code",
   "execution_count": 11,
   "id": "f885042c-7fa5-406f-92e6-057dea8c7313",
   "metadata": {},
   "outputs": [],
   "source": [
    "# Now let's see if we can recover the function from the stored derivatives\n",
    "from scipy.special import factorial\n",
    "test_point = [2,5,4]\n",
    "\n",
    "Fapprox = np.zeros(output_shape)\n",
    "\n",
    "for oo in range(order+1):\n",
    "    if oo == 0:\n",
    "        Fapprox += derivs[oo]\n",
    "    else:\n",
    "        param_inds = np.meshgrid( * (np.arange(Nparams),)*oo, indexing='ij')\n",
    "        PInds = [ind.flatten() for ind in param_inds] \n",
    "        \n",
    "        for iis in zip(*PInds):\n",
    "            monomials = [ (test_point[ii] - x0s[ii]) for ii in iis ]\n",
    "            Fapprox += 1/factorial(oo) * derivs[oo][iis] * np.prod(monomials)\n",
    "        \n",
    "    "
   ]
  },
  {
   "cell_type": "code",
   "execution_count": 12,
   "id": "f25f0663-ace7-48ae-a13f-e85aa9bb4fbc",
   "metadata": {},
   "outputs": [
    {
     "data": {
      "text/plain": [
       "array([13.0002,  3.    ])"
      ]
     },
     "execution_count": 12,
     "metadata": {},
     "output_type": "execute_result"
    }
   ],
   "source": [
    "Fapprox"
   ]
  },
  {
   "cell_type": "code",
   "execution_count": 13,
   "id": "dee5ddf8-a9b3-4ac7-a06f-bfcea20b0440",
   "metadata": {},
   "outputs": [
    {
     "data": {
      "text/plain": [
       "[13, 3]"
      ]
     },
     "execution_count": 13,
     "metadata": {},
     "output_type": "execute_result"
    }
   ],
   "source": [
    "F(test_point)"
   ]
  },
  {
   "cell_type": "code",
   "execution_count": 14,
   "id": "6a724724-eb3f-4619-af2a-2a4e73515c05",
   "metadata": {},
   "outputs": [],
   "source": [
    "from taylor_approximation import taylor_approximate"
   ]
  },
  {
   "cell_type": "code",
   "execution_count": 15,
   "id": "d23a99cd-f24a-4909-bdb9-9a41ca58f680",
   "metadata": {},
   "outputs": [
    {
     "name": "stdout",
     "output_type": "stream",
     "text": [
      "Taking the order 3 Taylor series.\n"
     ]
    },
    {
     "data": {
      "text/plain": [
       "array([13.0002,  3.    ])"
      ]
     },
     "execution_count": 15,
     "metadata": {},
     "output_type": "execute_result"
    }
   ],
   "source": [
    "taylor_approximate(test_point, x0s, derivs)"
   ]
  },
  {
   "cell_type": "code",
   "execution_count": 19,
   "id": "de96cc22-5346-4323-9e48-9d96ab314573",
   "metadata": {},
   "outputs": [
    {
     "name": "stdout",
     "output_type": "stream",
     "text": [
      "0.0017445087432861328\n"
     ]
    }
   ],
   "source": [
    "import time\n",
    "t1 = time.time()\n",
    "taylor_approximate(test_point, x0s, derivs,order=3)\n",
    "t2 = time.time()\n",
    "print(t2-t1)"
   ]
  },
  {
   "cell_type": "code",
   "execution_count": 18,
   "id": "b98ac3d8-d28f-4f08-b4f9-77202a5f7d5f",
   "metadata": {},
   "outputs": [
    {
     "name": "stdout",
     "output_type": "stream",
     "text": [
      "7.319450378417969e-05\n"
     ]
    }
   ],
   "source": [
    "t1 = time.time()\n",
    "F(test_point)\n",
    "t2 = time.time()\n",
    "print(t2-t1)"
   ]
  },
  {
   "cell_type": "code",
   "execution_count": null,
   "id": "7a7f0114-09a5-4cbb-aaf1-0b38545eaeb2",
   "metadata": {},
   "outputs": [],
   "source": []
  }
 ],
 "metadata": {
  "kernelspec": {
   "display_name": "findiff",
   "language": "python",
   "name": "findiff"
  },
  "language_info": {
   "codemirror_mode": {
    "name": "ipython",
    "version": 3
   },
   "file_extension": ".py",
   "mimetype": "text/x-python",
   "name": "python",
   "nbconvert_exporter": "python",
   "pygments_lexer": "ipython3",
   "version": "3.8.8"
  }
 },
 "nbformat": 4,
 "nbformat_minor": 5
}
