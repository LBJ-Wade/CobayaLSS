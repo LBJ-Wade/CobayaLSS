{
 "cells": [
  {
   "cell_type": "code",
   "execution_count": 1,
   "id": "77a4bead-ef05-4de3-a4a9-c17ecbe02f39",
   "metadata": {},
   "outputs": [],
   "source": [
    "import numpy as np\n",
    "import sys\n",
    "\n",
    "from matplotlib import pyplot as plt\n",
    "from compute_sigma8_tables import compute_sigma8"
   ]
  },
  {
   "cell_type": "code",
   "execution_count": 2,
   "id": "d3fbfde5-2fd5-474d-94d8-3a501f408e36",
   "metadata": {},
   "outputs": [],
   "source": [
    "import json\n",
    "# Let's reproduce things by reloading the saved file\n",
    "json_file = open('emu/boss_s8.json', 'r')\n",
    "emu = json.load( json_file )\n",
    "json_file.close()"
   ]
  },
  {
   "cell_type": "code",
   "execution_count": 15,
   "id": "de8617e7-2832-422a-8a72-2103fb266d67",
   "metadata": {},
   "outputs": [
    {
     "data": {
      "text/plain": [
       "'/global/cscratch1/sd/sfschen/finite_difference'"
      ]
     },
     "execution_count": 15,
     "metadata": {},
     "output_type": "execute_result"
    }
   ],
   "source": [
    "pwd"
   ]
  },
  {
   "cell_type": "code",
   "execution_count": 3,
   "id": "2096af78-6d0d-471f-a17d-2cb69331afea",
   "metadata": {},
   "outputs": [
    {
     "data": {
      "text/plain": [
       "dict_keys(['params', 'x0', 'lnA0', 'derivs0'])"
      ]
     },
     "execution_count": 3,
     "metadata": {},
     "output_type": "execute_result"
    }
   ],
   "source": [
    "emu.keys()"
   ]
  },
  {
   "cell_type": "code",
   "execution_count": 25,
   "id": "0db3f1c6-3689-4454-93d7-34b26c2ae55e",
   "metadata": {},
   "outputs": [
    {
     "name": "stdout",
     "output_type": "stream",
     "text": [
      "0.000985860824584961\n"
     ]
    }
   ],
   "source": [
    "from taylor_approximation import taylor_approximate\n",
    "import time\n",
    "test_point = [0.311, 0.692]\n",
    "\n",
    "x0s = emu['x0']\n",
    "derivs0 = [np.array(ll) for ll in emu['derivs0']]\n",
    "\n",
    "t1 = time.time()\n",
    "s8_emu = taylor_approximate(test_point, x0s, derivs0, order=3)\n",
    "t2 = time.time()\n",
    "print(t2-t1)"
   ]
  },
  {
   "cell_type": "code",
   "execution_count": 26,
   "id": "903a041d-6668-478b-bb16-3ee6b4effbf3",
   "metadata": {},
   "outputs": [
    {
     "data": {
      "text/plain": [
       "array([0.84231135])"
      ]
     },
     "execution_count": 26,
     "metadata": {},
     "output_type": "execute_result"
    }
   ],
   "source": [
    "s8_emu"
   ]
  },
  {
   "cell_type": "code",
   "execution_count": 5,
   "id": "eea2f717-ad63-41d0-a0d3-2067935b059b",
   "metadata": {},
   "outputs": [],
   "source": [
    "sigma8 = compute_sigma8(test_point)"
   ]
  },
  {
   "cell_type": "code",
   "execution_count": 6,
   "id": "bb80461c-058a-4e18-bc4f-2349bfd532e9",
   "metadata": {},
   "outputs": [
    {
     "name": "stdout",
     "output_type": "stream",
     "text": [
      "[0.67166386] 0.6716657339009248 [-2.78665063e-06]\n"
     ]
    }
   ],
   "source": [
    "print(s8_emu, sigma8, s8_emu/sigma8 -1)"
   ]
  },
  {
   "cell_type": "code",
   "execution_count": null,
   "id": "7a0098ed-d590-4a1d-af76-68a3a50daba5",
   "metadata": {},
   "outputs": [],
   "source": []
  },
  {
   "cell_type": "code",
   "execution_count": 33,
   "id": "210be8a2-aa94-4e7a-a937-cbc641274cc7",
   "metadata": {},
   "outputs": [],
   "source": [
    "# Now try with different lnA\n",
    "lnA = 2.99\n",
    "lnA0 = 3.047\n",
    "\n",
    "s8_emu = taylor_approximate(test_point, x0s, derivs0, order=3)\n",
    "s8_emu *= np.exp(0.5*(lnA-lnA0))"
   ]
  },
  {
   "cell_type": "code",
   "execution_count": 34,
   "id": "b8964a3e-d98b-40d6-8695-694fb8ec4d0b",
   "metadata": {},
   "outputs": [],
   "source": [
    "sigma8 = compute_sigma8(test_point,lnA0=lnA)"
   ]
  },
  {
   "cell_type": "code",
   "execution_count": 35,
   "id": "19f0454c-ce73-46b3-869d-665d0c5eb475",
   "metadata": {},
   "outputs": [
    {
     "name": "stdout",
     "output_type": "stream",
     "text": [
      "[0.81864434] 0.818646050463714 [-2.09408907e-06]\n"
     ]
    }
   ],
   "source": [
    "print(s8_emu, sigma8, s8_emu/sigma8 -1)"
   ]
  },
  {
   "cell_type": "code",
   "execution_count": null,
   "id": "bbcab932-55fb-41c5-b358-70ed17fdff9c",
   "metadata": {},
   "outputs": [],
   "source": []
  },
  {
   "cell_type": "code",
   "execution_count": 16,
   "id": "c1640b0d-2ab4-42fd-bf2c-7e7d2e23140d",
   "metadata": {},
   "outputs": [],
   "source": [
    "# Now try the function\n",
    "import sys\n",
    "sys.path.append('../boss_analysis_joint/lss_likelihood/')\n",
    "from compute_sigma8 import compute_sigma8 as s8func"
   ]
  },
  {
   "cell_type": "code",
   "execution_count": 24,
   "id": "55bb9b90-0705-4224-8d11-9a57a7e42ffc",
   "metadata": {},
   "outputs": [
    {
     "data": {
      "text/plain": [
       "0.8585383475817945"
      ]
     },
     "execution_count": 24,
     "metadata": {},
     "output_type": "execute_result"
    }
   ],
   "source": [
    "s8func(*test_point,lnA)"
   ]
  },
  {
   "cell_type": "code",
   "execution_count": null,
   "id": "d40713d3-cc31-479a-9431-1319b6995b79",
   "metadata": {},
   "outputs": [],
   "source": []
  }
 ],
 "metadata": {
  "kernelspec": {
   "display_name": "findiff",
   "language": "python",
   "name": "findiff"
  },
  "language_info": {
   "codemirror_mode": {
    "name": "ipython",
    "version": 3
   },
   "file_extension": ".py",
   "mimetype": "text/x-python",
   "name": "python",
   "nbconvert_exporter": "python",
   "pygments_lexer": "ipython3",
   "version": "3.8.8"
  }
 },
 "nbformat": 4,
 "nbformat_minor": 5
}
