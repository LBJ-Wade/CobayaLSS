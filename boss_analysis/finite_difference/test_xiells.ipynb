{
 "cells": [
  {
   "cell_type": "code",
   "execution_count": 1,
   "id": "f03ce6de-5a5c-416d-874f-27cd1eac5548",
   "metadata": {},
   "outputs": [
    {
     "name": "stdout",
     "output_type": "stream",
     "text": [
      "140.86304574397874 1559.5187133701488\n"
     ]
    }
   ],
   "source": [
    "import numpy as np\n",
    "from matplotlib import pyplot as plt\n",
    "from classy import Class\n",
    "\n",
    "import sys\n",
    "sys.path.append('/global/homes/s/sfschen/Python/velocileptors')\n",
    "\n",
    "from compute_xiell_tables import*"
   ]
  },
  {
   "cell_type": "code",
   "execution_count": null,
   "id": "b852ab4f-04a1-4339-8a85-22827032343d",
   "metadata": {},
   "outputs": [],
   "source": []
  },
  {
   "cell_type": "code",
   "execution_count": 2,
   "id": "bed68474-ef44-4b4c-be86-9057678ad821",
   "metadata": {},
   "outputs": [
    {
     "name": "stdout",
     "output_type": "stream",
     "text": [
      "127 187\n",
      "127 187\n",
      "127 187\n",
      "127 187\n",
      "127 187\n",
      "127 187\n"
     ]
    }
   ],
   "source": [
    "# Make polynomials:\n",
    "# These are 1, B1, F, B1^2, F^2, B1FF\n",
    "\n",
    "# this is 1\n",
    "xi0_00,xi2_00  = xi0, xi2 = compute_xiells_fixedbias([0.3, 0.7, 0.7], 0, 0, z=0.61, R=15., rmin=50, rmax=160 )\n",
    "\n",
    "# this is 1 + B1 + B1^2\n",
    "# and 1 + 2 B1 + 4 B1^2\n",
    "xi0_10,xi2_10  = xi0, xi2 = compute_xiells_fixedbias([0.3, 0.7, 0.7], 1, 0, z=0.61, R=15., rmin=50, rmax=160 )\n",
    "xi0_20,xi2_20  = xi0, xi2 = compute_xiells_fixedbias([0.3, 0.7, 0.7], 2, 0, z=0.61, R=15., rmin=50, rmax=160 )"
   ]
  },
  {
   "cell_type": "code",
   "execution_count": 3,
   "id": "fe5e05b3-b29b-45c4-8896-de09ec2e8bfd",
   "metadata": {},
   "outputs": [
    {
     "name": "stdout",
     "output_type": "stream",
     "text": [
      "127 187\n",
      "127 187\n",
      "127 187\n",
      "127 187\n"
     ]
    }
   ],
   "source": [
    "# this is 1 + F + F^2\n",
    "# and 1 + 2 F + 4 F^2\n",
    "xi0_01,xi2_01  = xi0, xi2 = compute_xiells_fixedbias([0.3, 0.7, 0.7], 0, 1, z=0.61, R=15., rmin=50, rmax=160 )\n",
    "xi0_02,xi2_02  = xi0, xi2 = compute_xiells_fixedbias([0.3, 0.7, 0.7], 0, 2, z=0.61, R=15., rmin=50, rmax=160 )"
   ]
  },
  {
   "cell_type": "code",
   "execution_count": 4,
   "id": "c733fb98-7326-4e38-a06d-8cb76be92829",
   "metadata": {},
   "outputs": [
    {
     "name": "stdout",
     "output_type": "stream",
     "text": [
      "127 187\n",
      "127 187\n"
     ]
    }
   ],
   "source": [
    "# and 1 + B1 + F + B1^2 + F^2 + BF\n",
    "xi0_11,xi2_11  = xi0, xi2 = compute_xiells_fixedbias([0.3, 0.7, 0.7], 1, 1, z=0.61, R=15., rmin=50, rmax=160 )\n"
   ]
  },
  {
   "cell_type": "code",
   "execution_count": null,
   "id": "56e69833-1adf-46b7-be57-3fd276ea51b4",
   "metadata": {},
   "outputs": [],
   "source": []
  },
  {
   "cell_type": "code",
   "execution_count": 5,
   "id": "1e759ae6-7e06-4a69-820e-eca4bb2d4aa9",
   "metadata": {},
   "outputs": [],
   "source": [
    "xi0_B1 = 0.5 * (4 * xi0_10 - xi0_20 - 3*xi0_00)\n",
    "xi0_B1sq = xi0_10 - xi0_B1 - xi0_00\n",
    "\n",
    "xi0_F = 0.5 * (4 * xi0_01 - xi0_02 - 3*xi0_00)\n",
    "xi0_Fsq = xi0_01 - xi0_F - xi0_00\n",
    "\n",
    "xi0_BF = xi0_11 - xi0_B1 - xi0_F - xi0_B1sq - xi0_Fsq - xi0_00"
   ]
  },
  {
   "cell_type": "code",
   "execution_count": 6,
   "id": "a12f034c-72af-479b-8e09-3a9450a2672a",
   "metadata": {},
   "outputs": [],
   "source": [
    "xi2_B1 = 0.5 * (4 * xi2_10 - xi2_20 - 3*xi2_00)\n",
    "xi2_B1sq = xi2_10 - xi2_B1 - xi2_00\n",
    "\n",
    "xi2_F = 0.5 * (4 * xi2_01 - xi2_02 - 3*xi2_00)\n",
    "xi2_Fsq = xi2_01 - xi2_F - xi2_00\n",
    "\n",
    "xi2_BF = xi2_11 - xi2_B1 - xi2_F - xi2_B1sq - xi2_Fsq - xi2_00"
   ]
  },
  {
   "cell_type": "code",
   "execution_count": null,
   "id": "3efa844f-ee72-4b29-9fd0-6e84ea45f2fc",
   "metadata": {},
   "outputs": [],
   "source": []
  },
  {
   "cell_type": "code",
   "execution_count": 7,
   "id": "37661008-aec6-47c5-a8f3-f59e2f5ff9f7",
   "metadata": {},
   "outputs": [
    {
     "name": "stdout",
     "output_type": "stream",
     "text": [
      "127 187\n",
      "127 187\n"
     ]
    }
   ],
   "source": [
    "B1, F = 5, -3\n",
    "xi0, xi2 = compute_xiells_fixedbias([0.3, 0.7, 0.7], B1, F, z=0.61, R=15., rmin=50, rmax=160 )"
   ]
  },
  {
   "cell_type": "code",
   "execution_count": 8,
   "id": "a854374d-d101-4f6b-bf0d-c8968e01b03b",
   "metadata": {},
   "outputs": [],
   "source": [
    "rr = np.arange(50, 160, 0.1)"
   ]
  },
  {
   "cell_type": "code",
   "execution_count": 9,
   "id": "147abf4c-2fa8-4baf-880f-37b83fd4d6fe",
   "metadata": {},
   "outputs": [
    {
     "data": {
      "text/plain": [
       "[<matplotlib.lines.Line2D at 0x2aaad5a5d1f0>]"
      ]
     },
     "execution_count": 9,
     "metadata": {},
     "output_type": "execute_result"
    },
    {
     "data": {
      "image/png": "[encoded data removed]",
      "text/plain": [
       "<Figure size 432x288 with 1 Axes>"
      ]
     },
     "metadata": {
      "needs_background": "light"
     },
     "output_type": "display_data"
    }
   ],
   "source": [
    "plt.plot(rr**2, rr**2 * xi0)\n",
    "plt.plot(rr**2, rr**2 * (xi0_00 + B1*xi0_B1 + B1**2*xi0_B1sq\\\n",
    "                        + F*xi0_F + F**2*xi0_Fsq\\\n",
    "                        + B1*F*xi0_BF), 'k--')"
   ]
  },
  {
   "cell_type": "code",
   "execution_count": 10,
   "id": "0706c673-a138-4449-be2e-86896b43fda8",
   "metadata": {},
   "outputs": [
    {
     "data": {
      "text/plain": [
       "[<matplotlib.lines.Line2D at 0x2aaad5b2ee80>]"
      ]
     },
     "execution_count": 10,
     "metadata": {},
     "output_type": "execute_result"
    },
    {
     "data": {
      "image/png": "[encoded data removed]",
      "text/plain": [
       "<Figure size 432x288 with 1 Axes>"
      ]
     },
     "metadata": {
      "needs_background": "light"
     },
     "output_type": "display_data"
    }
   ],
   "source": [
    "plt.plot(rr**2, rr**2 * xi2)\n",
    "plt.plot(rr**2, rr**2 * (xi2_00 + B1*xi2_B1 + B1**2*xi2_B1sq\\\n",
    "                        + F*xi2_F + F**2*xi2_Fsq\\\n",
    "                        + B1*F*xi2_BF), 'k--')"
   ]
  },
  {
   "cell_type": "code",
   "execution_count": null,
   "id": "f2144698-34bc-4e78-8730-944dc1cd17f3",
   "metadata": {},
   "outputs": [],
   "source": []
  },
  {
   "cell_type": "code",
   "execution_count": 17,
   "id": "2264badf-7a93-4968-a273-f13581e6030c",
   "metadata": {},
   "outputs": [],
   "source": [
    "B1, F = 5,6"
   ]
  },
  {
   "cell_type": "code",
   "execution_count": 18,
   "id": "0b2ab927-b77d-40a5-89b0-9d2bb7241727",
   "metadata": {},
   "outputs": [
    {
     "name": "stdout",
     "output_type": "stream",
     "text": [
      "127 187\n",
      "127 187\n"
     ]
    }
   ],
   "source": [
    "xi0, xi2 = compute_xiells_fixedbias([0.3, 0.7, 0.7], B1, F, z=0.61, R=15., rmin=50, rmax=160 )"
   ]
  },
  {
   "cell_type": "code",
   "execution_count": 19,
   "id": "e7d1c000-4517-436d-8c0b-4b63d0b0a4b5",
   "metadata": {},
   "outputs": [
    {
     "name": "stdout",
     "output_type": "stream",
     "text": [
      "127 187\n",
      "127 187\n"
     ]
    }
   ],
   "source": [
    "xi0t, xi2t = compute_xiell_tables([0.3, 0.7, 0.7], z=0.61, R=15., rmin=50, rmax=160 )"
   ]
  },
  {
   "cell_type": "code",
   "execution_count": null,
   "id": "25387fe0-418f-41fc-9b1d-1e70eb782fcc",
   "metadata": {},
   "outputs": [],
   "source": []
  },
  {
   "cell_type": "code",
   "execution_count": 20,
   "id": "9b1740e2-80fc-4563-9e04-de8f64aa4626",
   "metadata": {},
   "outputs": [
    {
     "data": {
      "text/plain": [
       "[<matplotlib.lines.Line2D at 0x2aaad5c6e1c0>]"
      ]
     },
     "execution_count": 20,
     "metadata": {},
     "output_type": "execute_result"
    },
    {
     "data": {
      "image/png": "[encoded data removed]",
      "text/plain": [
       "<Figure size 432x288 with 1 Axes>"
      ]
     },
     "metadata": {
      "needs_background": "light"
     },
     "output_type": "display_data"
    }
   ],
   "source": [
    "plt.plot(rr, rr**2 * (xi0t[:,0] + B1*xi0t[:,1] + F*xi0t[:,2] + B1**2 * xi0t[:,3] + F**2 * xi0t[:,4] + B1*F*xi0t[:,5]) )\n",
    "plt.plot(rr, rr**2 * xi0, 'k--')\n",
    "\n",
    "plt.plot(rr, rr**2 * (xi2t[:,0] + B1*xi2t[:,1] + F*xi2t[:,2] + B1**2 * xi2t[:,3] + F**2 * xi2t[:,4] + B1*F*xi2t[:,5]) )\n",
    "plt.plot(rr, rr**2 * xi2, 'k--')"
   ]
  },
  {
   "cell_type": "code",
   "execution_count": null,
   "id": "3f36e4b3-908c-42bf-9b4f-39b9114a4ffa",
   "metadata": {},
   "outputs": [],
   "source": []
  },
  {
   "cell_type": "code",
   "execution_count": null,
   "id": "459fffd3-d0c8-464a-9653-c16cfbd1aebd",
   "metadata": {},
   "outputs": [],
   "source": []
  }
 ],
 "metadata": {
  "kernelspec": {
   "display_name": "nersc_env",
   "language": "python",
   "name": "nersc_env"
  },
  "language_info": {
   "codemirror_mode": {
    "name": "ipython",
    "version": 3
   },
   "file_extension": ".py",
   "mimetype": "text/x-python",
   "name": "python",
   "nbconvert_exporter": "python",
   "pygments_lexer": "ipython3",
   "version": "3.8.8"
  }
 },
 "nbformat": 4,
 "nbformat_minor": 5
}
